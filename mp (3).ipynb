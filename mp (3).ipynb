{
 "cells": [
  {
   "cell_type": "markdown",
   "metadata": {},
   "source": [
    "# HW3.  Database Design"
   ]
  },
  {
   "cell_type": "markdown",
   "metadata": {},
   "source": [
    "### Library Relations"
   ]
  },
  {
   "cell_type": "markdown",
   "metadata": {},
   "source": [
    "- Member = {<span style=\"text-decoration:underline\">email</span>, name, birthday}\n",
    "- Borrow = {<span style=\"text-decoration:underline\">borrowID</span><sup>FK-BorrowTransactions</sup>, <span style=\"text-decoration:underline\">email</span><sup>FK-Member</sup>,<span style=\"text-decoration:underline\">itemID</span><sup>FK-Item</sup>}\n",
    "- BorrowTransactions = {<span style=\"text-decoration:underline\">borrowID</span>, borrowDate, returnDate, status}\n",
    "- Fines = {<span style=\"text-decoration:underline\">borrowID</span><sup>FK-BorrowTransactions</sup>, status, amount}\n",
    "- Item = {<span style=\"text-decoration:underline\">itemID</span>, name, author, category, genre, status}\n",
    "- Records = {<span style=\"text-decoration:underline\">itemID</span><sup>FK-Item</sup>, status, lastUpdated}\n",
    " -Staff = {<span style=\"text-decoration:underline\">email</span><sup>FK-Member</sup>, <span style=\"text-decoration:underline\">staffID</span>, position, wage, employmentDate}\n",
    "- Volunteer = {<span style=\"text-decoration:underline\">email</span><sup>FK-Member</sup>, <span style=\"text-decoration:underline\">volunteerID</span>, employmentDate}\n",
    "- Hold = {{<span style=\"text-decoration:underline\">staffID</span><sup>FK-Staff</sup>>,<span style=\"text-decoration:underline\">eventID</span>}<sup>FK-Events</sup>}\n",
    "- Events = {<span style=\"text-decoration:underline\">eventID</span>, name, scheduledTime, scheduledDate, targetAudience}\n",
    "- Located = {<span style=\"text-decoration:underline\">eventID</span><sup>FK-Events</sup>, <span style=\"text-decoration:underline\">roomNum</span><sup>FK-Room</sup>}\n",
    "- Room = {<span style=\"text-decoration:underline\">roomNum</span>, maxCap}"
   ]
  },
  {
   "cell_type": "markdown",
   "metadata": {},
   "source": [
    "#### Creating Database"
   ]
  },
  {
   "cell_type": "code",
   "execution_count": 5,
   "metadata": {},
   "outputs": [
    {
     "name": "stdout",
     "output_type": "stream",
     "text": [
      "The sql extension is already loaded. To reload it, use:\n",
      "  %reload_ext sql\n"
     ]
    },
    {
     "data": {
      "text/html": [
       "<span style=\"None\">displaylimit: Value None will be treated as 0 (no limit)</span>"
      ],
      "text/plain": [
       "displaylimit: Value None will be treated as 0 (no limit)"
      ]
     },
     "metadata": {},
     "output_type": "display_data"
    }
   ],
   "source": [
    "%load_ext sql\n",
    "%config SqlMagic.displaylimit = None"
   ]
  },
  {
   "cell_type": "code",
   "execution_count": 6,
   "metadata": {},
   "outputs": [],
   "source": [
    "%sql sqlite:///library.db"
   ]
  },
  {
   "cell_type": "code",
   "execution_count": 7,
   "metadata": {},
   "outputs": [
    {
     "data": {
      "text/html": [
       "<span style=\"None\">Running query in &#x27;sqlite:///library.db&#x27;</span>"
      ],
      "text/plain": [
       "Running query in 'sqlite:///library.db'"
      ]
     },
     "metadata": {},
     "output_type": "display_data"
    },
    {
     "data": {
      "text/html": [
       "<table>\n",
       "    <thead>\n",
       "        <tr>\n",
       "        </tr>\n",
       "    </thead>\n",
       "    <tbody>\n",
       "    </tbody>\n",
       "</table>"
      ],
      "text/plain": [
       "++\n",
       "||\n",
       "++\n",
       "++"
      ]
     },
     "execution_count": 7,
     "metadata": {},
     "output_type": "execute_result"
    }
   ],
   "source": [
    "%%sql\n",
    "\n",
    "CREATE TABLE Member (\n",
    "    email VARCHAR(500) PRIMARY KEY,\n",
    "    name VARCHAR(100),\n",
    "    birthday DATE\n",
    ");\n",
    "\n",
    "CREATE TABLE Borrow (\n",
    "    borrowID INTEGER,\n",
    "    email INTEGER,\n",
    "    itemID INTEGER,\n",
    "    PRIMARY KEY (borrowID, email, itemID),\n",
    "    FOREIGN KEY (borrowID) REFERENCES BorrowTransactions(borrowID),\n",
    "    FOREIGN KEY (email) REFERENCES Member(email),\n",
    "    FOREIGN KEY (itemID) REFERENCES Item(itemID)\n",
    ");\n",
    "\n",
    "\n",
    "CREATE TABLE BorrowTransactions (\n",
    "    borrowID INTEGER PRIMARY KEY,\n",
    "    borrowDate DATE,\n",
    "    returnDate DATE DEFAULT NULL,\n",
    "    status VARCHAR(10) CHECK (status IN ('Borrowed', 'Returned')) DEFAULT 'Borrowed'\n",
    ");\n",
    "\n",
    "CREATE TABLE Fines (\n",
    "    borrowID INTEGER PRIMARY KEY,\n",
    "    status VARCHAR(6) CHECK (status IN ('Paid', 'Unpaid')),\n",
    "    amount DECIMAL(10,2) CHECK (amount >= 0),\n",
    "    FOREIGN KEY (borrowID) REFERENCES BorrowTransactions(borrowID)\n",
    "    ON DELETE CASCADE\n",
    ");\n",
    "\n",
    "CREATE TABLE Item (\n",
    "    itemID INTEGER PRIMARY KEY,\n",
    "    name VARCHAR(255),\n",
    "    author VARCHAR(100),\n",
    "    category VARCHAR(50),\n",
    "    genre VARCHAR(50),\n",
    "    status VARCHAR(11) CHECK (status IN ('Available', 'Unavailable'))\n",
    ");\n",
    "\n",
    "CREATE TABLE Records (\n",
    "    itemID INTEGER,\n",
    "    status VARCHAR(20) CHECK (status IN ('In System', 'Archived')),\n",
    "    lastUpdated DATE,\n",
    "    FOREIGN KEY (itemID) REFERENCES Item(itemID)\n",
    ");\n",
    "\n",
    "CREATE TABLE Staff (\n",
    "    email INTEGER,\n",
    "    staffID INTEGER PRIMARY KEY,\n",
    "    position VARCHAR(50),\n",
    "    wage DECIMAL(10,2),\n",
    "    employmentDate DATE,\n",
    "    employmentStatus VARCHAR(20) CHECK (employmentStatus IN ('Working', 'Resigned')),\n",
    "    FOREIGN KEY (email) REFERENCES Member(email)\n",
    ");\n",
    "\n",
    "CREATE TABLE Volunteer (\n",
    "    email INTEGER,\n",
    "    volunteerID INTEGER PRIMARY KEY,\n",
    "    employmentDate DATE,\n",
    "    FOREIGN KEY (email) REFERENCES Member(email)\n",
    ");\n",
    "\n",
    "CREATE TABLE Hold (\n",
    "    staffID INTEGER,\n",
    "    eventID INTEGER,\n",
    "    PRIMARY KEY (staffID, eventID),\n",
    "    FOREIGN KEY (staffID) REFERENCES Staff(staffID),\n",
    "    FOREIGN KEY (eventID) REFERENCES Events(eventID)\n",
    ");\n",
    "\n",
    "CREATE TABLE Attends(\n",
    "    email INTEGER,\n",
    "    eventID,\n",
    "    PRIMARY KEY (email, eventID),\n",
    "    FOREIGN KEY (email) REFERENCES Member(email),\n",
    "    FOREIGN KEY (eventID) REFERENCES Events(eventID)\n",
    ");\n",
    "\n",
    "CREATE TABLE Events (\n",
    "    eventID INTEGER PRIMARY KEY,\n",
    "    name VARCHAR(100),\n",
    "    scheduledTime TIME,\n",
    "    scheduledDate DATE,\n",
    "    targetAudience VARCHAR(100)\n",
    ");\n",
    "\n",
    "CREATE TABLE Located (\n",
    "    eventID INTEGER,\n",
    "    roomNum INTEGER,\n",
    "    PRIMARY KEY (eventID, roomNum),\n",
    "    FOREIGN KEY (eventID) REFERENCES Events(eventID),\n",
    "    FOREIGN KEY (roomNum) REFERENCES Room(roomNum)\n",
    ");\n",
    "\n",
    "CREATE TABLE Room (\n",
    "    roomNum INTEGER PRIMARY KEY,\n",
    "    maxCap INTEGER\n",
    ");"
   ]
  },
  {
   "cell_type": "markdown",
   "metadata": {},
   "source": [
    "#### Triggers"
   ]
  },
  {
   "cell_type": "markdown",
   "metadata": {},
   "source": [
    "1) Prevent item deletion if it is still borrowed"
   ]
  },
  {
   "cell_type": "code",
   "execution_count": 8,
   "metadata": {},
   "outputs": [
    {
     "data": {
      "text/html": [
       "<span style=\"None\">Running query in &#x27;sqlite:///library.db&#x27;</span>"
      ],
      "text/plain": [
       "Running query in 'sqlite:///library.db'"
      ]
     },
     "metadata": {},
     "output_type": "display_data"
    },
    {
     "data": {
      "text/html": [
       "<table>\n",
       "    <thead>\n",
       "        <tr>\n",
       "        </tr>\n",
       "    </thead>\n",
       "    <tbody>\n",
       "    </tbody>\n",
       "</table>"
      ],
      "text/plain": [
       "++\n",
       "||\n",
       "++\n",
       "++"
      ]
     },
     "execution_count": 8,
     "metadata": {},
     "output_type": "execute_result"
    }
   ],
   "source": [
    "%%sql\n",
    "CREATE TRIGGER prevent_item_deletion_if_borrowed\n",
    "BEFORE DELETE ON Item\n",
    "FOR EACH ROW\n",
    "BEGIN\n",
    "    -- Prevent item deletion if it is still borrowed\n",
    "    SELECT RAISE(ABORT, 'Item cannot be deleted as it is currently borrowed.')\n",
    "    WHERE EXISTS (SELECT 1 FROM Borrow WHERE itemID = OLD.itemID);\n",
    "END;\n"
   ]
  },
  {
   "cell_type": "markdown",
   "metadata": {},
   "source": [
    "2. When add item, also adds record"
   ]
  },
  {
   "cell_type": "code",
   "execution_count": 9,
   "metadata": {},
   "outputs": [
    {
     "data": {
      "text/html": [
       "<span style=\"None\">Running query in &#x27;sqlite:///library.db&#x27;</span>"
      ],
      "text/plain": [
       "Running query in 'sqlite:///library.db'"
      ]
     },
     "metadata": {},
     "output_type": "display_data"
    },
    {
     "data": {
      "text/html": [
       "<table>\n",
       "    <thead>\n",
       "        <tr>\n",
       "        </tr>\n",
       "    </thead>\n",
       "    <tbody>\n",
       "    </tbody>\n",
       "</table>"
      ],
      "text/plain": [
       "++\n",
       "||\n",
       "++\n",
       "++"
      ]
     },
     "execution_count": 9,
     "metadata": {},
     "output_type": "execute_result"
    }
   ],
   "source": [
    "%%sql\n",
    "\n",
    "CREATE TRIGGER add_record_on_item_insert\n",
    "AFTER INSERT ON Item\n",
    "FOR EACH ROW\n",
    "BEGIN\n",
    "    INSERT INTO Records (itemID, status, lastUpdated)\n",
    "    VALUES (NEW.itemID, 'In System', DATE('now'));\n",
    "END;"
   ]
  },
  {
   "cell_type": "markdown",
   "metadata": {},
   "source": [
    "3. If staff holds event, they also attend the event"
   ]
  },
  {
   "cell_type": "code",
   "execution_count": 10,
   "metadata": {},
   "outputs": [
    {
     "data": {
      "text/html": [
       "<span style=\"None\">Running query in &#x27;sqlite:///library.db&#x27;</span>"
      ],
      "text/plain": [
       "Running query in 'sqlite:///library.db'"
      ]
     },
     "metadata": {},
     "output_type": "display_data"
    },
    {
     "data": {
      "text/html": [
       "<table>\n",
       "    <thead>\n",
       "        <tr>\n",
       "        </tr>\n",
       "    </thead>\n",
       "    <tbody>\n",
       "    </tbody>\n",
       "</table>"
      ],
      "text/plain": [
       "++\n",
       "||\n",
       "++\n",
       "++"
      ]
     },
     "execution_count": 10,
     "metadata": {},
     "output_type": "execute_result"
    }
   ],
   "source": [
    "%%sql\n",
    "\n",
    "CREATE TRIGGER staff_attends_event\n",
    "AFTER INSERT ON Hold\n",
    "FOR EACH ROW\n",
    "BEGIN\n",
    "    INSERT INTO Attends (email, eventID)\n",
    "    SELECT email, NEW.eventID\n",
    "    FROM Staff\n",
    "    WHERE staffID = NEW.staffID;\n",
    "END;\n"
   ]
  },
  {
   "cell_type": "markdown",
   "metadata": {},
   "source": [
    "4) If an item is overdue in borrows -> Adds to fines"
   ]
  },
  {
   "cell_type": "code",
   "execution_count": 11,
   "metadata": {},
   "outputs": [
    {
     "data": {
      "text/html": [
       "<span style=\"None\">Running query in &#x27;sqlite:///library.db&#x27;</span>"
      ],
      "text/plain": [
       "Running query in 'sqlite:///library.db'"
      ]
     },
     "metadata": {},
     "output_type": "display_data"
    },
    {
     "data": {
      "text/html": [
       "<table>\n",
       "    <thead>\n",
       "        <tr>\n",
       "        </tr>\n",
       "    </thead>\n",
       "    <tbody>\n",
       "    </tbody>\n",
       "</table>"
      ],
      "text/plain": [
       "++\n",
       "||\n",
       "++\n",
       "++"
      ]
     },
     "execution_count": 11,
     "metadata": {},
     "output_type": "execute_result"
    }
   ],
   "source": [
    "%%sql\n",
    "\n",
    "CREATE TRIGGER AddFineForOverdueInsert\n",
    "AFTER INSERT ON BorrowTransactions\n",
    "FOR EACH ROW\n",
    "BEGIN\n",
    "    -- Insert a fine if the status is 'Borrowed' and returnDate is overdue\n",
    "    INSERT INTO Fines (borrowID, status, amount)\n",
    "    SELECT New.borrowID, 'Unpaid', 10.00\n",
    "    WHERE NEW.status = 'Borrowed' AND NEW.returnDate < CURRENT_DATE;\n",
    "END;\n",
    "\n"
   ]
  },
  {
   "cell_type": "code",
   "execution_count": 12,
   "metadata": {},
   "outputs": [
    {
     "data": {
      "text/html": [
       "<span style=\"None\">Running query in &#x27;sqlite:///library.db&#x27;</span>"
      ],
      "text/plain": [
       "Running query in 'sqlite:///library.db'"
      ]
     },
     "metadata": {},
     "output_type": "display_data"
    },
    {
     "data": {
      "text/html": [
       "<table>\n",
       "    <thead>\n",
       "        <tr>\n",
       "        </tr>\n",
       "    </thead>\n",
       "    <tbody>\n",
       "    </tbody>\n",
       "</table>"
      ],
      "text/plain": [
       "++\n",
       "||\n",
       "++\n",
       "++"
      ]
     },
     "execution_count": 12,
     "metadata": {},
     "output_type": "execute_result"
    }
   ],
   "source": [
    "%%sql\n",
    "\n",
    "CREATE TRIGGER AddFineForOverdueUpdate\n",
    "AFTER UPDATE ON BorrowTransactions\n",
    "FOR EACH ROW\n",
    "BEGIN\n",
    "    -- Insert a fine if the status is 'Borrowed' and returnDate is overdue\n",
    "    INSERT INTO Fines (borrowID, status, amount)\n",
    "    SELECT New.borrowID, 'Unpaid', 10.00\n",
    "    WHERE NEW.status = 'Borrowed' AND NEW.returnDate < CURRENT_DATE;\n",
    "END;\n"
   ]
  },
  {
   "cell_type": "markdown",
   "metadata": {},
   "source": [
    "6) When you insert into borrow transactions -> Makes it return date 1 month after"
   ]
  },
  {
   "cell_type": "code",
   "execution_count": 13,
   "metadata": {},
   "outputs": [
    {
     "data": {
      "text/html": [
       "<span style=\"None\">Running query in &#x27;sqlite:///library.db&#x27;</span>"
      ],
      "text/plain": [
       "Running query in 'sqlite:///library.db'"
      ]
     },
     "metadata": {},
     "output_type": "display_data"
    },
    {
     "data": {
      "text/html": [
       "<table>\n",
       "    <thead>\n",
       "        <tr>\n",
       "        </tr>\n",
       "    </thead>\n",
       "    <tbody>\n",
       "    </tbody>\n",
       "</table>"
      ],
      "text/plain": [
       "++\n",
       "||\n",
       "++\n",
       "++"
      ]
     },
     "execution_count": 13,
     "metadata": {},
     "output_type": "execute_result"
    }
   ],
   "source": [
    "%%sql\n",
    "\n",
    "CREATE TRIGGER SetReturnDate\n",
    "AFTER INSERT ON BorrowTransactions\n",
    "FOR EACH ROW\n",
    "BEGIN\n",
    "    UPDATE BorrowTransactions\n",
    "    SET returnDate = DATE(NEW.borrowDate, '+1 month')\n",
    "    WHERE borrowID = NEW.borrowID;\n",
    "END;"
   ]
  },
  {
   "cell_type": "markdown",
   "metadata": {},
   "source": [
    "7) If you are a staff -> You cant be a volunteer"
   ]
  },
  {
   "cell_type": "code",
   "execution_count": 14,
   "metadata": {},
   "outputs": [
    {
     "data": {
      "text/html": [
       "<span style=\"None\">Running query in &#x27;sqlite:///library.db&#x27;</span>"
      ],
      "text/plain": [
       "Running query in 'sqlite:///library.db'"
      ]
     },
     "metadata": {},
     "output_type": "display_data"
    },
    {
     "data": {
      "text/html": [
       "<table>\n",
       "    <thead>\n",
       "        <tr>\n",
       "        </tr>\n",
       "    </thead>\n",
       "    <tbody>\n",
       "    </tbody>\n",
       "</table>"
      ],
      "text/plain": [
       "++\n",
       "||\n",
       "++\n",
       "++"
      ]
     },
     "execution_count": 14,
     "metadata": {},
     "output_type": "execute_result"
    }
   ],
   "source": [
    "%%sql \n",
    "CREATE TRIGGER prevent_volunteer_if_staff\n",
    "AFTER INSERT ON Volunteer\n",
    "FOR EACH ROW\n",
    "BEGIN\n",
    "    -- Check if the email is already in the Staff table\n",
    "    DELETE FROM Volunteer\n",
    "    WHERE email = NEW.email\n",
    "    AND EXISTS (SELECT 1 FROM Staff WHERE email = NEW.email);\n",
    "END;"
   ]
  },
  {
   "cell_type": "markdown",
   "metadata": {},
   "source": [
    "8) If you wanna be a staff and your a volunteer -> You get deleted from volunteer table"
   ]
  },
  {
   "cell_type": "code",
   "execution_count": 15,
   "metadata": {},
   "outputs": [
    {
     "data": {
      "text/html": [
       "<span style=\"None\">Running query in &#x27;sqlite:///library.db&#x27;</span>"
      ],
      "text/plain": [
       "Running query in 'sqlite:///library.db'"
      ]
     },
     "metadata": {},
     "output_type": "display_data"
    },
    {
     "data": {
      "text/html": [
       "<table>\n",
       "    <thead>\n",
       "        <tr>\n",
       "        </tr>\n",
       "    </thead>\n",
       "    <tbody>\n",
       "    </tbody>\n",
       "</table>"
      ],
      "text/plain": [
       "++\n",
       "||\n",
       "++\n",
       "++"
      ]
     },
     "execution_count": 15,
     "metadata": {},
     "output_type": "execute_result"
    }
   ],
   "source": [
    "%%sql\n",
    "CREATE TRIGGER remove_volunteer_if_staff\n",
    "AFTER INSERT ON Staff\n",
    "FOR EACH ROW\n",
    "BEGIN\n",
    "    -- If email in volunteer table -> Delete\n",
    "    DELETE FROM Volunteer WHERE email = NEW.email;\n",
    "END;"
   ]
  },
  {
   "cell_type": "markdown",
   "metadata": {},
   "source": [
    "Sets ids so they increase"
   ]
  },
  {
   "cell_type": "code",
   "execution_count": 16,
   "metadata": {},
   "outputs": [
    {
     "data": {
      "text/html": [
       "<span style=\"None\">Running query in &#x27;sqlite:///library.db&#x27;</span>"
      ],
      "text/plain": [
       "Running query in 'sqlite:///library.db'"
      ]
     },
     "metadata": {},
     "output_type": "display_data"
    },
    {
     "data": {
      "text/html": [
       "<table>\n",
       "    <thead>\n",
       "        <tr>\n",
       "        </tr>\n",
       "    </thead>\n",
       "    <tbody>\n",
       "    </tbody>\n",
       "</table>"
      ],
      "text/plain": [
       "++\n",
       "||\n",
       "++\n",
       "++"
      ]
     },
     "execution_count": 16,
     "metadata": {},
     "output_type": "execute_result"
    }
   ],
   "source": [
    "%%sql\n",
    "CREATE TRIGGER set_borrow_transactions\n",
    "BEFORE INSERT ON BorrowTransactions\n",
    "FOR EACH ROW\n",
    "WHEN NEW.borrowID IS NULL\n",
    "BEGIN\n",
    "    UPDATE BorrowTransactions\n",
    "    SET borrowID = (\n",
    "        CASE \n",
    "            WHEN (SELECT MAX(borrowID) FROM BorrowTransactions) IS NULL THEN 1\n",
    "            ELSE (SELECT MAX(borrowID) FROM BorrowTransactions) + 1\n",
    "        END\n",
    "    )\n",
    "    WHERE rowid = NEW.rowid;\n",
    "END;\n",
    "\n",
    "CREATE TRIGGER set_staff\n",
    "BEFORE INSERT ON Staff\n",
    "FOR EACH ROW\n",
    "WHEN NEW.staffID IS NULL\n",
    "BEGIN\n",
    "    UPDATE Staff\n",
    "    SET staffID = (\n",
    "        CASE \n",
    "            WHEN (SELECT MAX(staffID) FROM Staff) IS NULL THEN 1\n",
    "            ELSE (SELECT MAX(staffID) FROM Staff) + 1\n",
    "        END\n",
    "    )\n",
    "    WHERE rowid = NEW.rowid;\n",
    "END;\n",
    "\n",
    "CREATE TRIGGER set_volunteer\n",
    "BEFORE INSERT ON Volunteer\n",
    "FOR EACH ROW\n",
    "WHEN NEW.volunteerID IS NULL\n",
    "BEGIN\n",
    "    UPDATE Volunteer\n",
    "    SET volunteerID = (\n",
    "        CASE \n",
    "            WHEN (SELECT MAX(volunteerID) FROM Volunteer) IS NULL THEN 1\n",
    "            ELSE (SELECT MAX(volunteerID) FROM Volunteer) + 1\n",
    "        END\n",
    "    )\n",
    "    WHERE rowid = NEW.rowid;\n",
    "END;\n",
    "\n",
    "CREATE TRIGGER set_event\n",
    "BEFORE INSERT ON Events\n",
    "FOR EACH ROW\n",
    "WHEN NEW.eventID IS NULL\n",
    "BEGIN\n",
    "    UPDATE Events\n",
    "    SET eventID = (\n",
    "        CASE \n",
    "            WHEN (SELECT MAX(eventID) FROM Events) IS NULL THEN 1\n",
    "            ELSE (SELECT MAX(eventID) FROM Events) + 1\n",
    "        END\n",
    "    )\n",
    "    WHERE rowid = NEW.rowid;\n",
    "END;\n",
    "\n",
    "CREATE TRIGGER set_room\n",
    "BEFORE INSERT ON Room\n",
    "FOR EACH ROW\n",
    "WHEN NEW.roomNum IS NULL\n",
    "BEGIN\n",
    "    UPDATE Room\n",
    "    SET roomNum = (\n",
    "        CASE \n",
    "            WHEN (SELECT MAX(roomNum) FROM Room) IS NULL THEN 1\n",
    "            ELSE (SELECT MAX(roomNum) FROM Room) + 1\n",
    "        END\n",
    "    )\n",
    "    WHERE rowid = NEW.rowid;\n",
    "END;"
   ]
  },
  {
   "cell_type": "code",
   "execution_count": 17,
   "metadata": {},
   "outputs": [
    {
     "data": {
      "text/html": [
       "<span style=\"None\">Running query in &#x27;sqlite:///library.db&#x27;</span>"
      ],
      "text/plain": [
       "Running query in 'sqlite:///library.db'"
      ]
     },
     "metadata": {},
     "output_type": "display_data"
    },
    {
     "data": {
      "text/html": [
       "<table>\n",
       "    <thead>\n",
       "        <tr>\n",
       "            <th>cid</th>\n",
       "            <th>name</th>\n",
       "            <th>type</th>\n",
       "            <th>notnull</th>\n",
       "            <th>dflt_value</th>\n",
       "            <th>pk</th>\n",
       "        </tr>\n",
       "    </thead>\n",
       "    <tbody>\n",
       "        <tr>\n",
       "            <td>0</td>\n",
       "            <td>borrowID</td>\n",
       "            <td>INTEGER</td>\n",
       "            <td>0</td>\n",
       "            <td>None</td>\n",
       "            <td>1</td>\n",
       "        </tr>\n",
       "        <tr>\n",
       "            <td>1</td>\n",
       "            <td>status</td>\n",
       "            <td>VARCHAR(6)</td>\n",
       "            <td>0</td>\n",
       "            <td>None</td>\n",
       "            <td>0</td>\n",
       "        </tr>\n",
       "        <tr>\n",
       "            <td>2</td>\n",
       "            <td>amount</td>\n",
       "            <td>DECIMAL(10,2)</td>\n",
       "            <td>0</td>\n",
       "            <td>None</td>\n",
       "            <td>0</td>\n",
       "        </tr>\n",
       "    </tbody>\n",
       "</table>"
      ],
      "text/plain": [
       "+-----+----------+---------------+---------+------------+----+\n",
       "| cid |   name   |      type     | notnull | dflt_value | pk |\n",
       "+-----+----------+---------------+---------+------------+----+\n",
       "|  0  | borrowID |    INTEGER    |    0    |    None    | 1  |\n",
       "|  1  |  status  |   VARCHAR(6)  |    0    |    None    | 0  |\n",
       "|  2  |  amount  | DECIMAL(10,2) |    0    |    None    | 0  |\n",
       "+-----+----------+---------------+---------+------------+----+"
      ]
     },
     "execution_count": 17,
     "metadata": {},
     "output_type": "execute_result"
    }
   ],
   "source": [
    "%%sql\n",
    "PRAGMA table_info(Fines)"
   ]
  },
  {
   "cell_type": "markdown",
   "metadata": {},
   "source": [
    "#### Inserts"
   ]
  },
  {
   "cell_type": "code",
   "execution_count": 18,
   "metadata": {},
   "outputs": [
    {
     "data": {
      "text/html": [
       "<span style=\"None\">Running query in &#x27;sqlite:///library.db&#x27;</span>"
      ],
      "text/plain": [
       "Running query in 'sqlite:///library.db'"
      ]
     },
     "metadata": {},
     "output_type": "display_data"
    },
    {
     "data": {
      "text/html": [
       "<span style=\"color: green\">35 rows affected.</span>"
      ],
      "text/plain": [
       "35 rows affected."
      ]
     },
     "metadata": {},
     "output_type": "display_data"
    },
    {
     "data": {
      "text/html": [
       "<table>\n",
       "    <thead>\n",
       "        <tr>\n",
       "        </tr>\n",
       "    </thead>\n",
       "    <tbody>\n",
       "    </tbody>\n",
       "</table>"
      ],
      "text/plain": [
       "++\n",
       "||\n",
       "++\n",
       "++"
      ]
     },
     "execution_count": 18,
     "metadata": {},
     "output_type": "execute_result"
    }
   ],
   "source": [
    "%%sql\n",
    "-- Member\n",
    "-- Member\n",
    "INSERT INTO Member (email, name, birthday) VALUES\n",
    "('ash.ketchum@email.com', 'Ash Ketchum', '2006-03-22'),\n",
    "('pikachu@email.com', 'Pikachu', '2008-07-08'),\n",
    "('misty@email.com', 'Misty', '2004-08-15'),\n",
    "('brock@email.com', 'Brock', '2005-11-22'),\n",
    "('team.rocket@email.com', 'Team Rocket', '2007-02-01'),\n",
    "('squirtle@email.com', 'Squirtle', '2008-10-15'),\n",
    "('charmander@email.com', 'Charmander', '2009-04-18'),\n",
    "('bulbasaur@email.com', 'Bulbasaur', '2008-05-22'),\n",
    "('emolga@email.com', 'Emolga', '2003-07-23'),\n",
    "('mimikyu@email.com', 'Mimikyu', '2008-12-31'),\n",
    "('spongebob@email.com', 'SpongeBob SquarePants', '2004-07-14'),\n",
    "('patrick@email.com', 'Patrick Star', '2005-02-19'),\n",
    "('squidward@email.com', 'Squidward Tentacles', '1999-10-09'),\n",
    "('mr.krabs@email.com', 'Mr. Krabs', '1980-06-30'),\n",
    "('sandy@email.com', 'Sandy Cheeks', '2005-11-26'),\n",
    "('plankton@email.com', 'Plankton', '2006-03-13'),\n",
    "('simba@email.com', 'Simba', '2007-06-15'),\n",
    "('nala@email.com', 'Nala', '2006-05-20'),\n",
    "('scar@email.com', 'Scar', '1998-09-30'),\n",
    "('ariel@email.com', 'Ariel', '2004-11-01'),\n",
    "('flounder@email.com', 'Flounder', '2005-04-25'),\n",
    "('ursula@email.com', 'Ursula', '1993-09-06'),\n",
    "('belle@email.com', 'Belle', '2003-11-22'),\n",
    "('beast@email.com', 'Beast', '2004-06-17'),\n",
    "('aladdin@email.com', 'Aladdin', '2005-11-06'),\n",
    "('genie@email.com', 'Genie', '2004-04-17'),\n",
    "('sonic@email.com', 'Sonic the Hedgehog', '2003-06-23'),\n",
    "('tails@email.com', 'Tails', '2004-12-02'),\n",
    "('knuckles@email.com', 'Knuckles the Echidna', '2003-02-01'),\n",
    "('robotnik@email.com', 'Dr. Robotnik', '2001-08-25'),\n",
    "('amyrose@email.com', 'Amy Rose', '2005-05-07'),\n",
    "('elena@email.com', 'Elena', '2005-04-03'),\n",
    "('nathan@email.com', 'Nathan', '2004-11-08'),\n",
    "('luka@email.com', 'Luka', '2021-08-08'),\n",
    "('mochie@email.com', 'Mochie', '2019-06-20');\n"
   ]
  },
  {
   "cell_type": "code",
   "execution_count": 19,
   "metadata": {},
   "outputs": [
    {
     "data": {
      "text/html": [
       "<span style=\"None\">Running query in &#x27;sqlite:///library.db&#x27;</span>"
      ],
      "text/plain": [
       "Running query in 'sqlite:///library.db'"
      ]
     },
     "metadata": {},
     "output_type": "display_data"
    },
    {
     "data": {
      "text/html": [
       "<span style=\"color: green\">20 rows affected.</span>"
      ],
      "text/plain": [
       "20 rows affected."
      ]
     },
     "metadata": {},
     "output_type": "display_data"
    },
    {
     "data": {
      "text/html": [
       "<table>\n",
       "    <thead>\n",
       "        <tr>\n",
       "        </tr>\n",
       "    </thead>\n",
       "    <tbody>\n",
       "    </tbody>\n",
       "</table>"
      ],
      "text/plain": [
       "++\n",
       "||\n",
       "++\n",
       "++"
      ]
     },
     "execution_count": 19,
     "metadata": {},
     "output_type": "execute_result"
    }
   ],
   "source": [
    "%%sql\n",
    "-- BorrowTransactions\n",
    "INSERT INTO BorrowTransactions (borrowID, borrowDate, returnDate, status) VALUES\n",
    "(2000, '2024-01-01', '2024-02-01', 'Returned'),\n",
    "(NULL, '2025-03-28', '2025-03-29', 'Returned'),\n",
    "(NULL, '2025-03-27', '2025-03-28', 'Returned'),\n",
    "(NULL, '2025-03-25', '2025-03-26', 'Returned'),\n",
    "(NULL, '2024-12-15', '2025-01-15', 'Returned'),\n",
    "(NULL, '2024-11-20', '2024-12-20', 'Returned'),\n",
    "(NULL, '2025-03-20', '2025-03-21', 'Returned'),\n",
    "(NULL, '2025-03-18', '2025-03-19', 'Returned'),\n",
    "(NULL, '2024-06-01', '2024-07-01', 'Returned'),\n",
    "(NULL, '2025-03-22', '2025-03-23', 'Returned'),\n",
    "\n",
    "(NULL, '2024-09-15', NULL, 'Borrowed'),\n",
    "(NULL, '2024-11-10', NULL, 'Borrowed'),\n",
    "(NULL, '2025-03-26', NULL, 'Borrowed'),\n",
    "(NULL, '2024-12-01', NULL, 'Borrowed'),\n",
    "(NULL, '2024-08-20', NULL, 'Borrowed'),\n",
    "(NULL, '2024-10-05', NULL, 'Borrowed'),\n",
    "(NULL, '2024-02-15', NULL, 'Borrowed'), \n",
    "(NULL, '2024-11-05', NULL, 'Borrowed'),  \n",
    "(NULL, '2024-07-12', NULL, 'Borrowed'), \n",
    "(NULL, '2024-05-28', NULL, 'Borrowed');  \n"
   ]
  },
  {
   "cell_type": "code",
   "execution_count": 20,
   "metadata": {},
   "outputs": [
    {
     "data": {
      "text/html": [
       "<span style=\"None\">Running query in &#x27;sqlite:///library.db&#x27;</span>"
      ],
      "text/plain": [
       "Running query in 'sqlite:///library.db'"
      ]
     },
     "metadata": {},
     "output_type": "display_data"
    },
    {
     "data": {
      "text/html": [
       "<span style=\"color: green\">20 rows affected.</span>"
      ],
      "text/plain": [
       "20 rows affected."
      ]
     },
     "metadata": {},
     "output_type": "display_data"
    },
    {
     "data": {
      "text/html": [
       "<table>\n",
       "    <thead>\n",
       "        <tr>\n",
       "        </tr>\n",
       "    </thead>\n",
       "    <tbody>\n",
       "    </tbody>\n",
       "</table>"
      ],
      "text/plain": [
       "++\n",
       "||\n",
       "++\n",
       "++"
      ]
     },
     "execution_count": 20,
     "metadata": {},
     "output_type": "execute_result"
    }
   ],
   "source": [
    "%%sql\n",
    "--Items\n",
    "INSERT INTO Item (itemID, name, author, category, genre, status) VALUES\n",
    "(4000, 'Harry Potter and the Sorcerer''s Stone', 'J.K. Rowling', 'Book', 'Fantasy', 'Available'),\n",
    "(NULL, 'Harry Potter and the Chamber of Secrets', 'J.K. Rowling', 'Book', 'Fantasy', 'Available'),\n",
    "(NULL, 'Harry Potter and the Prisoner of Azkaban', 'J.K. Rowling', 'Book', 'Fantasy', 'Available'),\n",
    "(NULL, 'The Hobbit', 'J.R.R. Tolkien', 'Book', 'Fantasy', 'Available'),\n",
    "(NULL, '1984', 'George Orwell', 'Book', 'Dystopian', 'Available'),\n",
    "(NULL, 'To Kill a Mockingbird', 'Harper Lee', 'Book', 'Classic', 'Available'),\n",
    "(NULL, 'The Catcher in the Rye', 'J.D. Salinger', 'Book', 'Classic', 'Available'),\n",
    "(NULL, 'Pride and Prejudice', 'Jane Austen', 'Book', 'Romance', 'Available'),\n",
    "(NULL, 'Rock Legends Collection', 'Various Artists', 'CD', 'Rock', 'Available'),\n",
    "(NULL, 'Jazz Classics', 'Various Artists', 'CD', 'Jazz', 'Available'),\n",
    "\n",
    "(NULL, 'Moby-Dick', 'Herman Melville', 'Book', 'Classic', 'Unavailable'),\n",
    "(NULL, 'The Great Gatsby', 'F. Scott Fitzgerald', 'Book', 'Classic', 'Unavailable'),\n",
    "(NULL, 'Brave New World', 'Aldous Huxley', 'Book', 'Dystopian', 'Unavailable'),\n",
    "(NULL, 'Fahrenheit 451', 'Ray Bradbury', 'Book', 'Dystopian', 'Unavailable'),\n",
    "(NULL, 'The Lord of the Rings', 'J.R.R. Tolkien', 'Book', 'Fantasy', 'Unavailable'),\n",
    "(NULL, 'Dracula', 'Bram Stoker', 'Book', 'Horror', 'Unavailable'),\n",
    "(NULL, 'Beethoven: Symphony No. 9', 'Ludwig van Beethoven', 'CD', 'Classical', 'Unavailable'),\n",
    "(NULL, 'Pop Hits 2020', 'Various Artists', 'CD', 'Pop', 'Unavailable'),\n",
    "(NULL, 'The Dark Side of the Moon', 'Pink Floyd', 'CD', 'Rock', 'Unavailable'),\n",
    "(NULL, 'Hip-Hop Classics', 'Various Artists', 'CD', 'Hip-Hop', 'Unavailable');\n"
   ]
  },
  {
   "cell_type": "markdown",
   "metadata": {},
   "source": [
    "when borrowing\n",
    "- make new borrow transaction\n",
    "- know: itemid\n",
    "- know: member id"
   ]
  },
  {
   "cell_type": "code",
   "execution_count": 21,
   "metadata": {},
   "outputs": [
    {
     "data": {
      "text/html": [
       "<span style=\"None\">Running query in &#x27;sqlite:///library.db&#x27;</span>"
      ],
      "text/plain": [
       "Running query in 'sqlite:///library.db'"
      ]
     },
     "metadata": {},
     "output_type": "display_data"
    },
    {
     "data": {
      "text/html": [
       "<span style=\"color: green\">20 rows affected.</span>"
      ],
      "text/plain": [
       "20 rows affected."
      ]
     },
     "metadata": {},
     "output_type": "display_data"
    },
    {
     "data": {
      "text/html": [
       "<table>\n",
       "    <thead>\n",
       "        <tr>\n",
       "        </tr>\n",
       "    </thead>\n",
       "    <tbody>\n",
       "    </tbody>\n",
       "</table>"
      ],
      "text/plain": [
       "++\n",
       "||\n",
       "++\n",
       "++"
      ]
     },
     "execution_count": 21,
     "metadata": {},
     "output_type": "execute_result"
    }
   ],
   "source": [
    "%%sql\n",
    "\n",
    "-- Borrow\n",
    "INSERT INTO Borrow (borrowID, email, itemID) VALUES\n",
    "(2000, 'ariel@email.com', 4000),\n",
    "(2001, 'ariel@email.com', 4001),\n",
    "(2002, 'nathan@email.com', 4002),\n",
    "(2003, 'elena@email.com', 4003),\n",
    "(2004, 'team.rocket@email.com', 4004),\n",
    "(2005, 'elena@email.com', 4005),\n",
    "(2006, 'luka@email.com', 4006),\n",
    "(2007, 'luka@email.com', 4007),\n",
    "(2008, 'emolga@email.com', 4008),\n",
    "(2009, 'knuckles@email.com', 4009),\n",
    "(2010, 'pikachu@email.com', 4010),\n",
    "(2011, 'misty@email.com', 4011),\n",
    "(2012, 'brock@email.com', 4012),\n",
    "(2013, 'squirtle@email.com', 4013),\n",
    "(2014, 'charmander@email.com', 4014),\n",
    "(2015, 'bulbasaur@email.com', 4015),\n",
    "(2016, 'mimikyu@email.com', 4016),\n",
    "(2017, 'spongebob@email.com', 4017),\n",
    "(2018, 'patrick@email.com', 4018),\n",
    "(2019, 'squidward@email.com', 4019);\n"
   ]
  },
  {
   "cell_type": "code",
   "execution_count": 22,
   "metadata": {},
   "outputs": [
    {
     "data": {
      "text/html": [
       "<span style=\"None\">Running query in &#x27;sqlite:///library.db&#x27;</span>"
      ],
      "text/plain": [
       "Running query in 'sqlite:///library.db'"
      ]
     },
     "metadata": {},
     "output_type": "display_data"
    },
    {
     "data": {
      "text/html": [
       "<span style=\"color: green\">10 rows affected.</span>"
      ],
      "text/plain": [
       "10 rows affected."
      ]
     },
     "metadata": {},
     "output_type": "display_data"
    },
    {
     "data": {
      "text/html": [
       "<table>\n",
       "    <thead>\n",
       "        <tr>\n",
       "        </tr>\n",
       "    </thead>\n",
       "    <tbody>\n",
       "    </tbody>\n",
       "</table>"
      ],
      "text/plain": [
       "++\n",
       "||\n",
       "++\n",
       "++"
      ]
     },
     "execution_count": 22,
     "metadata": {},
     "output_type": "execute_result"
    }
   ],
   "source": [
    "%%sql\n",
    "--Staff\n",
    "INSERT INTO Staff (email, staffID, position, wage, employmentDate, employmentStatus) VALUES\n",
    "('ash.ketchum@email.com', 5000, 'Librarian', 45000.00, '2019-05-15', 'Working'),\n",
    "('pikachu@email.com', NULL, 'Assistant Librarian', 40000.00, '2020-07-22', 'Working'),\n",
    "('misty@email.com', NULL, 'Cleaner', 25000.00, '2021-03-30', 'Working'),\n",
    "('brock@email.com', NULL, 'Security', 28000.00, '2022-09-10', 'Resigned'),\n",
    "('team.rocket@email.com', NULL, 'Librarian', 46000.00, '2021-01-12', 'Working'),\n",
    "('squirtle@email.com', NULL, 'Assistant Librarian', 42000.00, '2022-11-05', 'Working'),\n",
    "('charmander@email.com', NULL, 'Cleaner', 24000.00, '2020-10-28', 'Working'),\n",
    "('bulbasaur@email.com', NULL, 'Security', 29000.00, '2021-08-19', 'Resigned'),\n",
    "('emolga@email.com', NULL, 'Librarian', 50000.00, '2018-06-01', 'Working'),\n",
    "('mimikyu@email.com', NULL, 'Assistant Librarian', 41000.00, '2023-02-15', 'Working');\n",
    "\n"
   ]
  },
  {
   "cell_type": "code",
   "execution_count": 23,
   "metadata": {},
   "outputs": [
    {
     "data": {
      "text/html": [
       "<span style=\"None\">Running query in &#x27;sqlite:///library.db&#x27;</span>"
      ],
      "text/plain": [
       "Running query in 'sqlite:///library.db'"
      ]
     },
     "metadata": {},
     "output_type": "display_data"
    },
    {
     "data": {
      "text/html": [
       "<span style=\"color: green\">10 rows affected.</span>"
      ],
      "text/plain": [
       "10 rows affected."
      ]
     },
     "metadata": {},
     "output_type": "display_data"
    },
    {
     "data": {
      "text/html": [
       "<table>\n",
       "    <thead>\n",
       "        <tr>\n",
       "        </tr>\n",
       "    </thead>\n",
       "    <tbody>\n",
       "    </tbody>\n",
       "</table>"
      ],
      "text/plain": [
       "++\n",
       "||\n",
       "++\n",
       "++"
      ]
     },
     "execution_count": 23,
     "metadata": {},
     "output_type": "execute_result"
    }
   ],
   "source": [
    "%%sql\n",
    "-- Volunteer\n",
    "INSERT INTO Volunteer (email, volunteerID, employmentDate) VALUES\n",
    "('spongebob@email.com', 6000, '2023-01-15'),\n",
    "('patrick@email.com', NULL, '2023-02-20'),\n",
    "('squidward@email.com', NULL, '2023-03-25'),\n",
    "('mr.krabs@email.com', NULL, '2023-04-10'),\n",
    "('sandy@email.com', NULL, '2023-05-05'),\n",
    "('plankton@email.com', NULL, '2023-06-18'),\n",
    "('simba@email.com', NULL, '2023-07-22'),\n",
    "('nala@email.com', NULL, '2023-08-14'),\n",
    "('scar@email.com', NULL, '2023-09-09'),\n",
    "('ariel@email.com', NULL, '2023-10-02');\n"
   ]
  },
  {
   "cell_type": "code",
   "execution_count": 24,
   "metadata": {},
   "outputs": [
    {
     "data": {
      "text/html": [
       "<span style=\"None\">Running query in &#x27;sqlite:///library.db&#x27;</span>"
      ],
      "text/plain": [
       "Running query in 'sqlite:///library.db'"
      ]
     },
     "metadata": {},
     "output_type": "display_data"
    },
    {
     "data": {
      "text/html": [
       "<span style=\"color: green\">10 rows affected.</span>"
      ],
      "text/plain": [
       "10 rows affected."
      ]
     },
     "metadata": {},
     "output_type": "display_data"
    },
    {
     "data": {
      "text/html": [
       "<table>\n",
       "    <thead>\n",
       "        <tr>\n",
       "        </tr>\n",
       "    </thead>\n",
       "    <tbody>\n",
       "    </tbody>\n",
       "</table>"
      ],
      "text/plain": [
       "++\n",
       "||\n",
       "++\n",
       "++"
      ]
     },
     "execution_count": 24,
     "metadata": {},
     "output_type": "execute_result"
    }
   ],
   "source": [
    "%%sql\n",
    "-- Event\n",
    "INSERT INTO Events (eventID, name, scheduledTime, scheduledDate, targetAudience) VALUES\n",
    "(7000, 'Library Book Reading', '14:00:00', '2025-05-15', 'All Ages'),\n",
    "(NULL, 'Children’s Storytime', '10:30:00', '2025-05-18', 'Children'),\n",
    "(NULL, 'Coding Workshop', '16:00:00', '2025-05-20', 'Teens and Adults'),\n",
    "(NULL, 'Author Meet and Greet', '12:00:00', '2025-03-22', 'Adults'),\n",
    "(NULL, 'Community Clean-Up', '08:00:00', '2025-02-04', 'Volunteers'),\n",
    "(NULL, 'Book Donation Drive', '09:00:00', '2025-02-04', 'All Ages'),\n",
    "(NULL, 'Film Screening', '18:00:00', '2025-02-03', 'Teens and Adults'),\n",
    "(NULL, 'Public Lecture on History', '19:00:00', '2025-01-05', 'Adults'),\n",
    "(NULL, 'Holiday Craft Workshop', '14:00:00', '2024-12-10', 'Children and Families'),\n",
    "(NULL, 'New Year’s Eve Party', '20:00:00', '2024-12-31', 'All Ages');\n"
   ]
  },
  {
   "cell_type": "code",
   "execution_count": 25,
   "metadata": {},
   "outputs": [
    {
     "data": {
      "text/html": [
       "<span style=\"None\">Running query in &#x27;sqlite:///library.db&#x27;</span>"
      ],
      "text/plain": [
       "Running query in 'sqlite:///library.db'"
      ]
     },
     "metadata": {},
     "output_type": "display_data"
    },
    {
     "data": {
      "text/html": [
       "<span style=\"color: green\">34 rows affected.</span>"
      ],
      "text/plain": [
       "34 rows affected."
      ]
     },
     "metadata": {},
     "output_type": "display_data"
    },
    {
     "data": {
      "text/html": [
       "<table>\n",
       "    <thead>\n",
       "        <tr>\n",
       "        </tr>\n",
       "    </thead>\n",
       "    <tbody>\n",
       "    </tbody>\n",
       "</table>"
      ],
      "text/plain": [
       "++\n",
       "||\n",
       "++\n",
       "++"
      ]
     },
     "execution_count": 25,
     "metadata": {},
     "output_type": "execute_result"
    }
   ],
   "source": [
    "%%sql\n",
    "\n",
    "--Attends\n",
    "INSERT INTO Attends (email, eventID) VALUES\n",
    "('pikachu@email.com', 7000),\n",
    "('misty@email.com', 7001),\n",
    "('brock@email.com', 7002),\n",
    "('team.rocket@email.com', 7002),\n",
    "('squirtle@email.com', 7003),\n",
    "('charmander@email.com', 7004),\n",
    "('bulbasaur@email.com', 7005),\n",
    "('emolga@email.com', 7006),\n",
    "('mimikyu@email.com', 7007),\n",
    "('spongebob@email.com', 7008),\n",
    "('patrick@email.com', 7000),\n",
    "('squidward@email.com', 7001),\n",
    "('mr.krabs@email.com', 7002),\n",
    "('sandy@email.com', 7003),\n",
    "('plankton@email.com', 7004),\n",
    "('simba@email.com', 7005),\n",
    "('nala@email.com', 7006),\n",
    "('scar@email.com', 7007),\n",
    "('ariel@email.com', 7008),\n",
    "('flounder@email.com', 7009),\n",
    "('ursula@email.com', 7000),\n",
    "('belle@email.com', 7001),\n",
    "('beast@email.com', 7002),\n",
    "('aladdin@email.com', 7003),\n",
    "('genie@email.com', 7004),\n",
    "('sonic@email.com', 7005),\n",
    "('tails@email.com', 7006),\n",
    "('knuckles@email.com', 7007),\n",
    "('robotnik@email.com', 7008),\n",
    "('amyrose@email.com', 7009),\n",
    "('elena@email.com', 7000),\n",
    "('nathan@email.com', 7001),\n",
    "('luka@email.com', 7002),\n",
    "('mochie@email.com', 7003);\n",
    "\n"
   ]
  },
  {
   "cell_type": "code",
   "execution_count": 26,
   "metadata": {},
   "outputs": [
    {
     "data": {
      "text/html": [
       "<span style=\"None\">Running query in &#x27;sqlite:///library.db&#x27;</span>"
      ],
      "text/plain": [
       "Running query in 'sqlite:///library.db'"
      ]
     },
     "metadata": {},
     "output_type": "display_data"
    },
    {
     "data": {
      "text/html": [
       "<span style=\"color: green\">10 rows affected.</span>"
      ],
      "text/plain": [
       "10 rows affected."
      ]
     },
     "metadata": {},
     "output_type": "display_data"
    },
    {
     "data": {
      "text/html": [
       "<table>\n",
       "    <thead>\n",
       "        <tr>\n",
       "        </tr>\n",
       "    </thead>\n",
       "    <tbody>\n",
       "    </tbody>\n",
       "</table>"
      ],
      "text/plain": [
       "++\n",
       "||\n",
       "++\n",
       "++"
      ]
     },
     "execution_count": 26,
     "metadata": {},
     "output_type": "execute_result"
    }
   ],
   "source": [
    "%%sql\n",
    "--Holds\n",
    "INSERT INTO Hold (staffID, eventID) VALUES\n",
    "(5000, 7000),\n",
    "(5001, 7001),\n",
    "(5002, 7002),\n",
    "(5003, 7003),\n",
    "(5004, 7004),\n",
    "(5005, 7005),\n",
    "(5006, 7006),\n",
    "(5007, 7007),\n",
    "(5008, 7008),\n",
    "(5009, 7009);"
   ]
  },
  {
   "cell_type": "code",
   "execution_count": 27,
   "metadata": {},
   "outputs": [
    {
     "data": {
      "text/html": [
       "<span style=\"None\">Running query in &#x27;sqlite:///library.db&#x27;</span>"
      ],
      "text/plain": [
       "Running query in 'sqlite:///library.db'"
      ]
     },
     "metadata": {},
     "output_type": "display_data"
    },
    {
     "data": {
      "text/html": [
       "<span style=\"color: green\">10 rows affected.</span>"
      ],
      "text/plain": [
       "10 rows affected."
      ]
     },
     "metadata": {},
     "output_type": "display_data"
    },
    {
     "data": {
      "text/html": [
       "<table>\n",
       "    <thead>\n",
       "        <tr>\n",
       "        </tr>\n",
       "    </thead>\n",
       "    <tbody>\n",
       "    </tbody>\n",
       "</table>"
      ],
      "text/plain": [
       "++\n",
       "||\n",
       "++\n",
       "++"
      ]
     },
     "execution_count": 27,
     "metadata": {},
     "output_type": "execute_result"
    }
   ],
   "source": [
    "%%sql\n",
    "-- Room\n",
    "INSERT INTO Room (roomNum, maxCap) VALUES\n",
    "(8000, 20),\n",
    "(NULL, 30),\n",
    "(NULL, 20),\n",
    "(NULL, 5),\n",
    "(NULL, 10),\n",
    "(NULL, 40),\n",
    "(NULL, 60),\n",
    "(NULL, 20),\n",
    "(NULL, 30),\n",
    "(NULL, 25);"
   ]
  },
  {
   "cell_type": "code",
   "execution_count": 28,
   "metadata": {},
   "outputs": [
    {
     "data": {
      "text/html": [
       "<span style=\"None\">Running query in &#x27;sqlite:///library.db&#x27;</span>"
      ],
      "text/plain": [
       "Running query in 'sqlite:///library.db'"
      ]
     },
     "metadata": {},
     "output_type": "display_data"
    },
    {
     "data": {
      "text/html": [
       "<span style=\"color: green\">10 rows affected.</span>"
      ],
      "text/plain": [
       "10 rows affected."
      ]
     },
     "metadata": {},
     "output_type": "display_data"
    },
    {
     "data": {
      "text/html": [
       "<table>\n",
       "    <thead>\n",
       "        <tr>\n",
       "        </tr>\n",
       "    </thead>\n",
       "    <tbody>\n",
       "    </tbody>\n",
       "</table>"
      ],
      "text/plain": [
       "++\n",
       "||\n",
       "++\n",
       "++"
      ]
     },
     "execution_count": 28,
     "metadata": {},
     "output_type": "execute_result"
    }
   ],
   "source": [
    "%%sql\n",
    "--Located\n",
    "INSERT INTO Located (eventID, roomNum) VALUES\n",
    "(7000, 8000),\n",
    "(7001, 8001),\n",
    "(7002, 8002),\n",
    "(7003, 8003),\n",
    "(7004, 8004),\n",
    "(7005, 8005),\n",
    "(7006, 8006),\n",
    "(7007, 8007),\n",
    "(7008, 8008),\n",
    "(7009, 8009);\n"
   ]
  },
  {
   "cell_type": "code",
   "execution_count": 33,
   "metadata": {},
   "outputs": [
    {
     "data": {
      "text/html": [
       "<span style=\"None\">Running query in &#x27;sqlite:///library.db&#x27;</span>"
      ],
      "text/plain": [
       "Running query in 'sqlite:///library.db'"
      ]
     },
     "metadata": {},
     "output_type": "display_data"
    },
    {
     "data": {
      "text/html": [
       "<table>\n",
       "    <thead>\n",
       "        <tr>\n",
       "            <th>email</th>\n",
       "            <th>eventID</th>\n",
       "        </tr>\n",
       "    </thead>\n",
       "    <tbody>\n",
       "        <tr>\n",
       "            <td>pikachu@email.com</td>\n",
       "            <td>7000</td>\n",
       "        </tr>\n",
       "        <tr>\n",
       "            <td>misty@email.com</td>\n",
       "            <td>7001</td>\n",
       "        </tr>\n",
       "        <tr>\n",
       "            <td>brock@email.com</td>\n",
       "            <td>7002</td>\n",
       "        </tr>\n",
       "        <tr>\n",
       "            <td>team.rocket@email.com</td>\n",
       "            <td>7002</td>\n",
       "        </tr>\n",
       "        <tr>\n",
       "            <td>squirtle@email.com</td>\n",
       "            <td>7003</td>\n",
       "        </tr>\n",
       "        <tr>\n",
       "            <td>charmander@email.com</td>\n",
       "            <td>7004</td>\n",
       "        </tr>\n",
       "        <tr>\n",
       "            <td>bulbasaur@email.com</td>\n",
       "            <td>7005</td>\n",
       "        </tr>\n",
       "        <tr>\n",
       "            <td>emolga@email.com</td>\n",
       "            <td>7006</td>\n",
       "        </tr>\n",
       "        <tr>\n",
       "            <td>mimikyu@email.com</td>\n",
       "            <td>7007</td>\n",
       "        </tr>\n",
       "        <tr>\n",
       "            <td>spongebob@email.com</td>\n",
       "            <td>7008</td>\n",
       "        </tr>\n",
       "        <tr>\n",
       "            <td>patrick@email.com</td>\n",
       "            <td>7000</td>\n",
       "        </tr>\n",
       "        <tr>\n",
       "            <td>squidward@email.com</td>\n",
       "            <td>7001</td>\n",
       "        </tr>\n",
       "        <tr>\n",
       "            <td>mr.krabs@email.com</td>\n",
       "            <td>7002</td>\n",
       "        </tr>\n",
       "        <tr>\n",
       "            <td>sandy@email.com</td>\n",
       "            <td>7003</td>\n",
       "        </tr>\n",
       "        <tr>\n",
       "            <td>plankton@email.com</td>\n",
       "            <td>7004</td>\n",
       "        </tr>\n",
       "        <tr>\n",
       "            <td>simba@email.com</td>\n",
       "            <td>7005</td>\n",
       "        </tr>\n",
       "        <tr>\n",
       "            <td>nala@email.com</td>\n",
       "            <td>7006</td>\n",
       "        </tr>\n",
       "        <tr>\n",
       "            <td>scar@email.com</td>\n",
       "            <td>7007</td>\n",
       "        </tr>\n",
       "        <tr>\n",
       "            <td>ariel@email.com</td>\n",
       "            <td>7008</td>\n",
       "        </tr>\n",
       "        <tr>\n",
       "            <td>flounder@email.com</td>\n",
       "            <td>7009</td>\n",
       "        </tr>\n",
       "        <tr>\n",
       "            <td>ursula@email.com</td>\n",
       "            <td>7000</td>\n",
       "        </tr>\n",
       "        <tr>\n",
       "            <td>belle@email.com</td>\n",
       "            <td>7001</td>\n",
       "        </tr>\n",
       "        <tr>\n",
       "            <td>beast@email.com</td>\n",
       "            <td>7002</td>\n",
       "        </tr>\n",
       "        <tr>\n",
       "            <td>aladdin@email.com</td>\n",
       "            <td>7003</td>\n",
       "        </tr>\n",
       "        <tr>\n",
       "            <td>genie@email.com</td>\n",
       "            <td>7004</td>\n",
       "        </tr>\n",
       "        <tr>\n",
       "            <td>sonic@email.com</td>\n",
       "            <td>7005</td>\n",
       "        </tr>\n",
       "        <tr>\n",
       "            <td>tails@email.com</td>\n",
       "            <td>7006</td>\n",
       "        </tr>\n",
       "        <tr>\n",
       "            <td>knuckles@email.com</td>\n",
       "            <td>7007</td>\n",
       "        </tr>\n",
       "        <tr>\n",
       "            <td>robotnik@email.com</td>\n",
       "            <td>7008</td>\n",
       "        </tr>\n",
       "        <tr>\n",
       "            <td>amyrose@email.com</td>\n",
       "            <td>7009</td>\n",
       "        </tr>\n",
       "        <tr>\n",
       "            <td>elena@email.com</td>\n",
       "            <td>7000</td>\n",
       "        </tr>\n",
       "        <tr>\n",
       "            <td>nathan@email.com</td>\n",
       "            <td>7001</td>\n",
       "        </tr>\n",
       "        <tr>\n",
       "            <td>luka@email.com</td>\n",
       "            <td>7002</td>\n",
       "        </tr>\n",
       "        <tr>\n",
       "            <td>mochie@email.com</td>\n",
       "            <td>7003</td>\n",
       "        </tr>\n",
       "        <tr>\n",
       "            <td>ash.ketchum@email.com</td>\n",
       "            <td>7000</td>\n",
       "        </tr>\n",
       "        <tr>\n",
       "            <td>pikachu@email.com</td>\n",
       "            <td>7001</td>\n",
       "        </tr>\n",
       "        <tr>\n",
       "            <td>misty@email.com</td>\n",
       "            <td>7002</td>\n",
       "        </tr>\n",
       "        <tr>\n",
       "            <td>brock@email.com</td>\n",
       "            <td>7003</td>\n",
       "        </tr>\n",
       "        <tr>\n",
       "            <td>team.rocket@email.com</td>\n",
       "            <td>7004</td>\n",
       "        </tr>\n",
       "        <tr>\n",
       "            <td>squirtle@email.com</td>\n",
       "            <td>7005</td>\n",
       "        </tr>\n",
       "        <tr>\n",
       "            <td>charmander@email.com</td>\n",
       "            <td>7006</td>\n",
       "        </tr>\n",
       "        <tr>\n",
       "            <td>bulbasaur@email.com</td>\n",
       "            <td>7007</td>\n",
       "        </tr>\n",
       "        <tr>\n",
       "            <td>emolga@email.com</td>\n",
       "            <td>7008</td>\n",
       "        </tr>\n",
       "        <tr>\n",
       "            <td>mimikyu@email.com</td>\n",
       "            <td>7009</td>\n",
       "        </tr>\n",
       "        <tr>\n",
       "            <td>misty@email.com</td>\n",
       "            <td>7002</td>\n",
       "        </tr>\n",
       "    </tbody>\n",
       "</table>"
      ],
      "text/plain": [
       "+-----------------------+---------+\n",
       "|         email         | eventID |\n",
       "+-----------------------+---------+\n",
       "|   pikachu@email.com   |   7000  |\n",
       "|    misty@email.com    |   7001  |\n",
       "|    brock@email.com    |   7002  |\n",
       "| team.rocket@email.com |   7002  |\n",
       "|   squirtle@email.com  |   7003  |\n",
       "|  charmander@email.com |   7004  |\n",
       "|  bulbasaur@email.com  |   7005  |\n",
       "|    emolga@email.com   |   7006  |\n",
       "|   mimikyu@email.com   |   7007  |\n",
       "|  spongebob@email.com  |   7008  |\n",
       "|   patrick@email.com   |   7000  |\n",
       "|  squidward@email.com  |   7001  |\n",
       "|   mr.krabs@email.com  |   7002  |\n",
       "|    sandy@email.com    |   7003  |\n",
       "|   plankton@email.com  |   7004  |\n",
       "|    simba@email.com    |   7005  |\n",
       "|     nala@email.com    |   7006  |\n",
       "|     scar@email.com    |   7007  |\n",
       "|    ariel@email.com    |   7008  |\n",
       "|   flounder@email.com  |   7009  |\n",
       "|    ursula@email.com   |   7000  |\n",
       "|    belle@email.com    |   7001  |\n",
       "|    beast@email.com    |   7002  |\n",
       "|   aladdin@email.com   |   7003  |\n",
       "|    genie@email.com    |   7004  |\n",
       "|    sonic@email.com    |   7005  |\n",
       "|    tails@email.com    |   7006  |\n",
       "|   knuckles@email.com  |   7007  |\n",
       "|   robotnik@email.com  |   7008  |\n",
       "|   amyrose@email.com   |   7009  |\n",
       "|    elena@email.com    |   7000  |\n",
       "|    nathan@email.com   |   7001  |\n",
       "|     luka@email.com    |   7002  |\n",
       "|    mochie@email.com   |   7003  |\n",
       "| ash.ketchum@email.com |   7000  |\n",
       "|   pikachu@email.com   |   7001  |\n",
       "|    misty@email.com    |   7002  |\n",
       "|    brock@email.com    |   7003  |\n",
       "| team.rocket@email.com |   7004  |\n",
       "|   squirtle@email.com  |   7005  |\n",
       "|  charmander@email.com |   7006  |\n",
       "|  bulbasaur@email.com  |   7007  |\n",
       "|    emolga@email.com   |   7008  |\n",
       "|   mimikyu@email.com   |   7009  |\n",
       "|    misty@email.com    |   7002  |\n",
       "+-----------------------+---------+"
      ]
     },
     "execution_count": 33,
     "metadata": {},
     "output_type": "execute_result"
    }
   ],
   "source": [
    "%%sql\n",
    "SELECT * FROM Attends;"
   ]
  },
  {
   "cell_type": "markdown",
   "metadata": {},
   "source": [
    "#### Indexes"
   ]
  },
  {
   "cell_type": "code",
   "execution_count": 30,
   "metadata": {},
   "outputs": [
    {
     "data": {
      "text/html": [
       "<span style=\"None\">Running query in &#x27;sqlite:///library.db&#x27;</span>"
      ],
      "text/plain": [
       "Running query in 'sqlite:///library.db'"
      ]
     },
     "metadata": {},
     "output_type": "display_data"
    },
    {
     "data": {
      "text/html": [
       "<table>\n",
       "    <thead>\n",
       "        <tr>\n",
       "        </tr>\n",
       "    </thead>\n",
       "    <tbody>\n",
       "    </tbody>\n",
       "</table>"
      ],
      "text/plain": [
       "++\n",
       "||\n",
       "++\n",
       "++"
      ]
     },
     "execution_count": 30,
     "metadata": {},
     "output_type": "execute_result"
    }
   ],
   "source": [
    "%%sql\n",
    "\n",
    "CREATE INDEX ItemIndex ON Item(name, author);"
   ]
  },
  {
   "cell_type": "markdown",
   "metadata": {},
   "source": [
    "#### FOR TESTING PURPOSES\n",
    "Delete tables if you need to"
   ]
  },
  {
   "cell_type": "code",
   "execution_count": 31,
   "metadata": {},
   "outputs": [],
   "source": [
    "# %%sql \n",
    "# -- Disable foreign key checks temporarily\n",
    "# PRAGMA foreign_keys = OFF;\n",
    "\n",
    "# -- Drop all tables (starting with those with foreign keys)\n",
    "# DROP TABLE IF EXISTS Hold;\n",
    "# DROP TABLE IF EXISTS Located;\n",
    "# DROP TABLE IF EXISTS Attends;\n",
    "# DROP TABLE IF EXISTS Events;\n",
    "# DROP TABLE IF EXISTS Staff;\n",
    "# DROP TABLE IF EXISTS Volunteer;\n",
    "# DROP TABLE IF EXISTS Borrow;\n",
    "# DROP TABLE IF EXISTS BorrowTransactions;\n",
    "# DROP TABLE IF EXISTS Records;\n",
    "# DROP TABLE IF EXISTS Fines;\n",
    "# DROP TABLE IF EXISTS Owes;\n",
    "# DROP TABLE IF EXISTS Item;\n",
    "# DROP TABLE IF EXISTS Member;\n",
    "# DROP TABLE IF EXISTS Room;\n",
    "\n",
    "# -- Re-enable foreign key checks\n",
    "# PRAGMA foreign_keys = ON;\n"
   ]
  }
 ],
 "metadata": {
  "kernelspec": {
   "display_name": "base",
   "language": "python",
   "name": "python3"
  },
  "language_info": {
   "codemirror_mode": {
    "name": "ipython",
    "version": 3
   },
   "file_extension": ".py",
   "mimetype": "text/x-python",
   "name": "python",
   "nbconvert_exporter": "python",
   "pygments_lexer": "ipython3",
   "version": "3.12.3"
  }
 },
 "nbformat": 4,
 "nbformat_minor": 2
}
